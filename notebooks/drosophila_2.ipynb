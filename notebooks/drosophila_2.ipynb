{
 "cells": [
  {
   "cell_type": "markdown",
   "metadata": {},
   "source": [
    "# Community detection in the _Drosophila_ connectome"
   ]
  },
  {
   "cell_type": "markdown",
   "metadata": {},
   "source": [
    "Import `lsbm` library:"
   ]
  },
  {
   "cell_type": "code",
   "execution_count": 1,
   "metadata": {},
   "outputs": [],
   "source": [
    "import lsbm"
   ]
  },
  {
   "cell_type": "markdown",
   "metadata": {},
   "source": [
    "Import data:"
   ]
  },
  {
   "cell_type": "code",
   "execution_count": 2,
   "metadata": {},
   "outputs": [],
   "source": [
    "import numpy as np\n",
    "from sklearn.preprocessing import LabelEncoder as labeler\n",
    "lab = np.loadtxt('../data/drosophila_labels.csv', dtype=str)\n",
    "lab = labeler().fit(lab).transform(lab)\n",
    "## Import embeddings\n",
    "X = np.loadtxt('../data/drosophila_dase.csv', delimiter=',')\n",
    "d = X.shape[1]"
   ]
  },
  {
   "cell_type": "markdown",
   "metadata": {},
   "source": [
    "Define initial number of clusters:"
   ]
  },
  {
   "cell_type": "code",
   "execution_count": 3,
   "metadata": {},
   "outputs": [],
   "source": [
    "K = 4"
   ]
  },
  {
   "cell_type": "markdown",
   "metadata": {},
   "source": [
    "Define latent basis functions:"
   ]
  },
  {
   "cell_type": "code",
   "execution_count": 4,
   "metadata": {},
   "outputs": [],
   "source": [
    "first_linear = [True, True, True, True]\n",
    "## Define the functions\n",
    "fW = {}\n",
    "for k in range(4):\n",
    "    fW[k,0] = lambda x: np.array([x])\n",
    "    for j in range(1,6):\n",
    "        if k == 0:\n",
    "            fW[k,j] = lambda x: np.array([x, x ** 2, x ** 3])\n",
    "        elif k == 1:\n",
    "            fW[k,j] = lambda x: np.array([1,x])\n",
    "        elif k == 3:\n",
    "            fW[k,j] = lambda x: np.array([x])\n",
    "        else:\n",
    "            if j <= 2:\n",
    "                fW[k,j] = lambda x: np.array([x])\n",
    "            else:\n",
    "                fW[k,j] = lambda x: np.array([1,x])"
   ]
  },
  {
   "cell_type": "markdown",
   "metadata": {},
   "source": [
    "Define `lsbm` model object:"
   ]
  },
  {
   "cell_type": "code",
   "execution_count": 5,
   "metadata": {},
   "outputs": [],
   "source": [
    "m = lsbm.lsbm_gibbs(X=X, K=4, W_function=fW, K_fixed=False, first_linear=first_linear)"
   ]
  },
  {
   "cell_type": "markdown",
   "metadata": {},
   "source": [
    "Initialise cluster allocations using $k$-means and match to the best fitting latent curve via the marginal likelihood:"
   ]
  },
  {
   "cell_type": "code",
   "execution_count": 6,
   "metadata": {},
   "outputs": [
    {
     "data": {
      "text/plain": [
       "0.6619431743637325"
      ]
     },
     "execution_count": 6,
     "metadata": {},
     "output_type": "execute_result"
    }
   ],
   "source": [
    "from sklearn.cluster import KMeans\n",
    "from sklearn.metrics import adjusted_rand_score as ari\n",
    "np.random.seed(171)\n",
    "z_init = KMeans(n_clusters=6, random_state=0).fit_predict(X) + 1\n",
    "## Initial labelling based on k-means output (following Priebe et al, 2017)\n",
    "z_init[np.where(z_init == 6)[0]] = 0\n",
    "z_init[np.where(z_init == 3)[0]] = 0\n",
    "z_init[np.where(z_init == 4)[0]] = 0\n",
    "z_init[np.where(z_init == 5)[0]] = 3\n",
    "## The initial values must be labelled carefully to match the corresponding curves  \n",
    "z_optim, perm_optim = lsbm.marginal_likelihood_relabeler(z_init=z_init, m=m)\n",
    "ari(z_optim, lab)"
   ]
  },
  {
   "cell_type": "code",
   "execution_count": 7,
   "metadata": {},
   "outputs": [],
   "source": [
    "np.random.seed(111)\n",
    "m.initialise(z=np.copy(z_optim), theta=m.X[:,0]+np.random.normal(size=m.n, scale=0.01), \n",
    "                    Lambda_0=(1/m.n)**2, mu_theta=m.X[:,0].mean(), sigma_theta=10, b_0=0.001)"
   ]
  },
  {
   "cell_type": "markdown",
   "metadata": {},
   "source": [
    "Run MCMC: "
   ]
  },
  {
   "cell_type": "code",
   "execution_count": null,
   "metadata": {},
   "outputs": [
    {
     "name": "stdout",
     "output_type": "stream",
     "text": [
      "Chain: 1 / 1 \tBurnin: 1000 / 1000 \tSamples: 708 / 10000"
     ]
    }
   ],
   "source": [
    "np.random.seed(111)\n",
    "q = m.mcmc(samples=10000, burn=1000, chains=1, store_chains=True, q=100, thinning=1, sigma_prop=0.01)"
   ]
  },
  {
   "cell_type": "markdown",
   "metadata": {},
   "source": [
    "Save output:"
   ]
  },
  {
   "cell_type": "code",
   "execution_count": null,
   "metadata": {},
   "outputs": [],
   "source": [
    "np.save('../Drosophila/out_theta_full_randomK.npy',q[0])\n",
    "np.save('../Drosophila/out_z_full_randomK.npy',q[1])"
   ]
  },
  {
   "cell_type": "markdown",
   "metadata": {},
   "source": [
    "Plot number of communities:"
   ]
  },
  {
   "cell_type": "code",
   "execution_count": null,
   "metadata": {},
   "outputs": [],
   "source": [
    "import matplotlib.pyplot as plt\n",
    "from matplotlib import rc\n",
    "rc('font',**{'family':'serif','serif':['Times']})\n",
    "rc('text', usetex=True)\n",
    "plt.plot(np.apply_along_axis(func1d=lambda x: len(np.unique(x)), axis=0, arr=q[1][:,0]))\n",
    "plt.show()"
   ]
  },
  {
   "cell_type": "markdown",
   "metadata": {},
   "source": [
    "Estimate and plot clusters:"
   ]
  },
  {
   "cell_type": "code",
   "execution_count": null,
   "metadata": {},
   "outputs": [],
   "source": [
    "import estimate_cluster\n",
    "psm = np.zeros((m.n,m.n))\n",
    "for z in q[1][:,0].T:\n",
    "    psm += np.equal.outer(z,z)\n",
    "psm /= q[1].shape[2]\n",
    "z_est = estimate_cluster.estimate_clustering(psm)"
   ]
  },
  {
   "cell_type": "code",
   "execution_count": null,
   "metadata": {},
   "outputs": [],
   "source": [
    "plt.rcParams['figure.figsize'] = [20, 20]\n",
    "import seaborn as sns\n",
    "zcol = [sns.color_palette(\"hls\", 4)[z] for z in z_est]\n",
    "fig, axs = plt.subplots(m.d,m.d)\n",
    "for k in range(m.d):\n",
    "    for h in range(m.d):\n",
    "        if k != h:\n",
    "            axs[k,h].scatter(m.X[:,k],m.X[:,h],c=zcol)\n",
    "plt.show()"
   ]
  },
  {
   "cell_type": "markdown",
   "metadata": {},
   "source": [
    "Calculate ARI for estimated clustering:"
   ]
  },
  {
   "cell_type": "code",
   "execution_count": null,
   "metadata": {},
   "outputs": [],
   "source": [
    "ari(z_est, lab)"
   ]
  },
  {
   "cell_type": "markdown",
   "metadata": {},
   "source": [
    "Histogram of K:"
   ]
  },
  {
   "cell_type": "code",
   "execution_count": null,
   "metadata": {},
   "outputs": [],
   "source": [
    "from collections import Counter\n",
    "plt.rcParams['figure.figsize'] = [6, 4]\n",
    "Kc = Counter(np.apply_along_axis(func1d=lambda x: len(np.unique(x)), axis=0, arr=q[1][:,0]))\n",
    "Kx = np.array(list(Kc.keys()))\n",
    "Ky = np.array(list(Kc.values())) / np.sum(np.array(list(Kc.values())))\n",
    "plt.bar(x=Kx, height=Ky, color='lightgray', edgecolor='black')\n",
    "plt.axvline(x=4, ls='--', c='red')\n",
    "plt.xlabel('$K$')\n",
    "plt.ylabel('Frequency')\n",
    "plt.savefig('../Drosophila/droso_full_Khist.pdf',bbox_inches='tight')\n",
    "plt.show()"
   ]
  }
 ],
 "metadata": {
  "kernelspec": {
   "display_name": "Python 3",
   "language": "python",
   "name": "python3"
  },
  "language_info": {
   "codemirror_mode": {
    "name": "ipython",
    "version": 3
   },
   "file_extension": ".py",
   "mimetype": "text/x-python",
   "name": "python",
   "nbconvert_exporter": "python",
   "pygments_lexer": "ipython3",
   "version": "3.8.0"
  }
 },
 "nbformat": 4,
 "nbformat_minor": 4
}
